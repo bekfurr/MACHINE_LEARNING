{
 "cells": [
  {
   "cell_type": "markdown",
   "id": "cc504435-5522-448f-8d45-8d1900762412",
   "metadata": {},
   "source": [
    "Library import qilamiz"
   ]
  },
  {
   "cell_type": "code",
   "execution_count": 1,
   "id": "0e3d04e1-6900-4c2f-a04b-2aa50581f5ff",
   "metadata": {},
   "outputs": [],
   "source": [
    "import pandas as pd\n",
    "import numpy as np\n",
    "import matplotlib.pyplot as plt\n",
    "from sklearn.model_selection import train_test_split\n",
    "from sklearn.linear_model import LinearRegression\n",
    "\n",
    "from sklearn.metrics import mean_squared_error, r2_score"
   ]
  },
  {
   "cell_type": "code",
   "execution_count": 3,
   "id": "1dff41d7-5569-4313-ba33-be4d0728fd90",
   "metadata": {},
   "outputs": [
    {
     "data": {
      "text/html": [
       "<div>\n",
       "<style scoped>\n",
       "    .dataframe tbody tr th:only-of-type {\n",
       "        vertical-align: middle;\n",
       "    }\n",
       "\n",
       "    .dataframe tbody tr th {\n",
       "        vertical-align: top;\n",
       "    }\n",
       "\n",
       "    .dataframe thead th {\n",
       "        text-align: right;\n",
       "    }\n",
       "</style>\n",
       "<table border=\"1\" class=\"dataframe\">\n",
       "  <thead>\n",
       "    <tr style=\"text-align: right;\">\n",
       "      <th></th>\n",
       "      <th>YearsExperience</th>\n",
       "      <th>Salary</th>\n",
       "    </tr>\n",
       "  </thead>\n",
       "  <tbody>\n",
       "    <tr>\n",
       "      <th>0</th>\n",
       "      <td>1.1</td>\n",
       "      <td>39343.0</td>\n",
       "    </tr>\n",
       "    <tr>\n",
       "      <th>1</th>\n",
       "      <td>1.3</td>\n",
       "      <td>46205.0</td>\n",
       "    </tr>\n",
       "    <tr>\n",
       "      <th>2</th>\n",
       "      <td>1.5</td>\n",
       "      <td>37731.0</td>\n",
       "    </tr>\n",
       "    <tr>\n",
       "      <th>3</th>\n",
       "      <td>2.0</td>\n",
       "      <td>43525.0</td>\n",
       "    </tr>\n",
       "    <tr>\n",
       "      <th>4</th>\n",
       "      <td>2.2</td>\n",
       "      <td>39891.0</td>\n",
       "    </tr>\n",
       "    <tr>\n",
       "      <th>5</th>\n",
       "      <td>2.9</td>\n",
       "      <td>56642.0</td>\n",
       "    </tr>\n",
       "    <tr>\n",
       "      <th>6</th>\n",
       "      <td>3.0</td>\n",
       "      <td>60150.0</td>\n",
       "    </tr>\n",
       "    <tr>\n",
       "      <th>7</th>\n",
       "      <td>3.2</td>\n",
       "      <td>54445.0</td>\n",
       "    </tr>\n",
       "    <tr>\n",
       "      <th>8</th>\n",
       "      <td>3.2</td>\n",
       "      <td>64445.0</td>\n",
       "    </tr>\n",
       "    <tr>\n",
       "      <th>9</th>\n",
       "      <td>3.7</td>\n",
       "      <td>57189.0</td>\n",
       "    </tr>\n",
       "    <tr>\n",
       "      <th>10</th>\n",
       "      <td>3.9</td>\n",
       "      <td>63218.0</td>\n",
       "    </tr>\n",
       "    <tr>\n",
       "      <th>11</th>\n",
       "      <td>4.0</td>\n",
       "      <td>55794.0</td>\n",
       "    </tr>\n",
       "    <tr>\n",
       "      <th>12</th>\n",
       "      <td>4.0</td>\n",
       "      <td>56957.0</td>\n",
       "    </tr>\n",
       "    <tr>\n",
       "      <th>13</th>\n",
       "      <td>4.1</td>\n",
       "      <td>57081.0</td>\n",
       "    </tr>\n",
       "    <tr>\n",
       "      <th>14</th>\n",
       "      <td>4.5</td>\n",
       "      <td>61111.0</td>\n",
       "    </tr>\n",
       "    <tr>\n",
       "      <th>15</th>\n",
       "      <td>4.9</td>\n",
       "      <td>67938.0</td>\n",
       "    </tr>\n",
       "    <tr>\n",
       "      <th>16</th>\n",
       "      <td>5.1</td>\n",
       "      <td>66029.0</td>\n",
       "    </tr>\n",
       "    <tr>\n",
       "      <th>17</th>\n",
       "      <td>5.3</td>\n",
       "      <td>83088.0</td>\n",
       "    </tr>\n",
       "    <tr>\n",
       "      <th>18</th>\n",
       "      <td>5.9</td>\n",
       "      <td>81363.0</td>\n",
       "    </tr>\n",
       "    <tr>\n",
       "      <th>19</th>\n",
       "      <td>6.0</td>\n",
       "      <td>93940.0</td>\n",
       "    </tr>\n",
       "    <tr>\n",
       "      <th>20</th>\n",
       "      <td>6.8</td>\n",
       "      <td>91738.0</td>\n",
       "    </tr>\n",
       "    <tr>\n",
       "      <th>21</th>\n",
       "      <td>7.1</td>\n",
       "      <td>98273.0</td>\n",
       "    </tr>\n",
       "    <tr>\n",
       "      <th>22</th>\n",
       "      <td>7.9</td>\n",
       "      <td>101302.0</td>\n",
       "    </tr>\n",
       "    <tr>\n",
       "      <th>23</th>\n",
       "      <td>8.2</td>\n",
       "      <td>113812.0</td>\n",
       "    </tr>\n",
       "    <tr>\n",
       "      <th>24</th>\n",
       "      <td>8.7</td>\n",
       "      <td>109431.0</td>\n",
       "    </tr>\n",
       "    <tr>\n",
       "      <th>25</th>\n",
       "      <td>9.0</td>\n",
       "      <td>105582.0</td>\n",
       "    </tr>\n",
       "    <tr>\n",
       "      <th>26</th>\n",
       "      <td>9.5</td>\n",
       "      <td>116969.0</td>\n",
       "    </tr>\n",
       "    <tr>\n",
       "      <th>27</th>\n",
       "      <td>9.6</td>\n",
       "      <td>112635.0</td>\n",
       "    </tr>\n",
       "    <tr>\n",
       "      <th>28</th>\n",
       "      <td>10.3</td>\n",
       "      <td>122391.0</td>\n",
       "    </tr>\n",
       "    <tr>\n",
       "      <th>29</th>\n",
       "      <td>10.5</td>\n",
       "      <td>121872.0</td>\n",
       "    </tr>\n",
       "  </tbody>\n",
       "</table>\n",
       "</div>"
      ],
      "text/plain": [
       "    YearsExperience    Salary\n",
       "0               1.1   39343.0\n",
       "1               1.3   46205.0\n",
       "2               1.5   37731.0\n",
       "3               2.0   43525.0\n",
       "4               2.2   39891.0\n",
       "5               2.9   56642.0\n",
       "6               3.0   60150.0\n",
       "7               3.2   54445.0\n",
       "8               3.2   64445.0\n",
       "9               3.7   57189.0\n",
       "10              3.9   63218.0\n",
       "11              4.0   55794.0\n",
       "12              4.0   56957.0\n",
       "13              4.1   57081.0\n",
       "14              4.5   61111.0\n",
       "15              4.9   67938.0\n",
       "16              5.1   66029.0\n",
       "17              5.3   83088.0\n",
       "18              5.9   81363.0\n",
       "19              6.0   93940.0\n",
       "20              6.8   91738.0\n",
       "21              7.1   98273.0\n",
       "22              7.9  101302.0\n",
       "23              8.2  113812.0\n",
       "24              8.7  109431.0\n",
       "25              9.0  105582.0\n",
       "26              9.5  116969.0\n",
       "27              9.6  112635.0\n",
       "28             10.3  122391.0\n",
       "29             10.5  121872.0"
      ]
     },
     "execution_count": 3,
     "metadata": {},
     "output_type": "execute_result"
    }
   ],
   "source": [
    "data = pd.read_csv('Salary_Data.csv')\n",
    "\n",
    "df = pd.DataFrame(data)\n",
    "df"
   ]
  },
  {
   "cell_type": "markdown",
   "id": "d5977667-86a0-4b7e-b843-cf78f1a82748",
   "metadata": {},
   "source": [
    "PLT orqali vizualizatsiya qilamiz"
   ]
  },
  {
   "cell_type": "code",
   "execution_count": 4,
   "id": "556c4fb2-82e5-4b91-9b74-d39543dbb84f",
   "metadata": {},
   "outputs": [
    {
     "data": {
      "image/png": "[encoded data removed]",
      "text/plain": [
       "<Figure size 640x480 with 1 Axes>"
      ]
     },
     "metadata": {},
     "output_type": "display_data"
    }
   ],
   "source": [
    "plt.scatter(df[\"YearsExperience\"], df[\"Salary\"], color=\"red\")\n",
    "plt.title(\"Visualized Salary Data\")\n",
    "plt.xlabel(\"Years Experience\")\n",
    "plt.ylabel(\"Slary\")\n",
    "plt.show()"
   ]
  },
  {
   "cell_type": "markdown",
   "id": "96d467b5-3686-49fc-9c41-83e0e60ce596",
   "metadata": {},
   "source": [
    "Datani Predict qilishga tayyorlaymiz"
   ]
  },
  {
   "cell_type": "code",
   "execution_count": 22,
   "id": "6c1e6ee1-1c1d-4cbb-9bbb-0b2abf8b7d5f",
   "metadata": {},
   "outputs": [],
   "source": [
    "X = df[[\"YearsExperience\"]]\n",
    "# bu yerda sklearn x qiymatni 2 dimentionda qabul qiladi shuning uchun biz x ni 2d ga o'zgartirdik\n",
    "y = df[\"Salary\"]\n"
   ]
  },
  {
   "cell_type": "markdown",
   "id": "ed6c9f7b-5729-42aa-a0a0-e6b8855ab2cf",
   "metadata": {},
   "source": [
    "Training qilishni boshlaymiz SKLEARN Linear Regression orqali"
   ]
  },
  {
   "cell_type": "code",
   "execution_count": 19,
   "id": "183c8f7e-0326-4a87-9f4a-ff5532599f15",
   "metadata": {},
   "outputs": [
    {
     "data": {
      "text/plain": [
       "(28    10.3\n",
       " 24     8.7\n",
       " 12     4.0\n",
       " 0      1.1\n",
       " 4      2.2\n",
       " 16     5.1\n",
       " 5      2.9\n",
       " 13     4.1\n",
       " 11     4.0\n",
       " 22     7.9\n",
       " 1      1.3\n",
       " 2      1.5\n",
       " 25     9.0\n",
       " 3      2.0\n",
       " 21     7.1\n",
       " 26     9.5\n",
       " 18     5.9\n",
       " 29    10.5\n",
       " 20     6.8\n",
       " 7      3.2\n",
       " 10     3.9\n",
       " 14     4.5\n",
       " 19     6.0\n",
       " 6      3.0\n",
       " Name: YearsExperience, dtype: float64,\n",
       " 27    9.6\n",
       " 15    4.9\n",
       " 23    8.2\n",
       " 17    5.3\n",
       " 8     3.2\n",
       " 9     3.7\n",
       " Name: YearsExperience, dtype: float64)"
      ]
     },
     "execution_count": 19,
     "metadata": {},
     "output_type": "execute_result"
    }
   ],
   "source": [
    "X_train, X_test, y_train, y_test = train_test_split(X,y, test_size=0.2, random_state=42)\n",
    "x_train, x_test"
   ]
  },
  {
   "cell_type": "markdown",
   "id": "f8662776-969f-4a89-a13d-7aee7968d498",
   "metadata": {},
   "source": [
    "Model Oqitamiz 😊"
   ]
  },
  {
   "cell_type": "code",
   "execution_count": 23,
   "id": "22a503d9-f1b1-4e3d-bff6-7d837868d654",
   "metadata": {},
   "outputs": [
    {
     "name": "stdout",
     "output_type": "stream",
     "text": [
      "Intercept(yol(manimcha): 25321.583011776813\n",
      "Slope(Og^ish): 9423.815323030976\n"
     ]
    }
   ],
   "source": [
    "bekfurr = LinearRegression()\n",
    "\n",
    "bekfurr.fit(X_train, y_train)\n",
    "\n",
    "#(❁´◡`❁)\n",
    "print(\"Intercept(yol(manimcha):\", bekfurr.intercept_)\n",
    "print(\"Slope(Og^ish):\", bekfurr.coef_[0])"
   ]
  },
  {
   "cell_type": "markdown",
   "id": "4e330a3f-512e-4ed4-b44e-0710ef79d5cc",
   "metadata": {},
   "source": [
    "PREDICT qilib ko'ramiz (●'◡'●)"
   ]
  },
  {
   "cell_type": "code",
   "execution_count": 28,
   "id": "8611f60c-78dd-4f49-848e-4b5be393e935",
   "metadata": {},
   "outputs": [
    {
     "data": {
      "text/plain": [
       "27    112635.0\n",
       "15     67938.0\n",
       "23    113812.0\n",
       "17     83088.0\n",
       "8      64445.0\n",
       "9      57189.0\n",
       "Name: Salary, dtype: float64"
      ]
     },
     "execution_count": 28,
     "metadata": {},
     "output_type": "execute_result"
    }
   ],
   "source": [
    "y_predict = bekfurr.predict(X_test)\n",
    "\n",
    "bekfurr_results = pd.DataFrame({\"Actual qiymat:\" : y_test.values, \"Predicted(bashorat qilingan)\": y_predict})\n",
    "\n",
    "bekfurr_results"
   ]
  },
  {
   "cell_type": "markdown",
   "id": "b298650b-118e-4708-a15b-7bd3b6565449",
   "metadata": {},
   "source": [
    "PREDICTION BAHOLAYMIZ"
   ]
  },
  {
   "cell_type": "code",
   "execution_count": 27,
   "id": "16d9d920-5661-45b4-8f97-1abf0938b1d0",
   "metadata": {},
   "outputs": [],
   "source": [
    "#MSE Ortacha kvadrat xatolik R-"
   ]
  },
  {
   "cell_type": "code",
   "execution_count": 32,
   "id": "3191296c-7e30-42c3-a064-eb6d2fc92231",
   "metadata": {},
   "outputs": [
    {
     "name": "stdout",
     "output_type": "stream",
     "text": [
      "MSE: 49830096.85590839\n",
      "R2: 0.9024461774180497\n"
     ]
    }
   ],
   "source": [
    "mse = mean_squared_error(y_test, y_predict)\n",
    "r2 = r2_score(y_test, y_predict)\n",
    "\n",
    "print(\"MSE:\", mse)\n",
    "print(\"R2:\", r2)"
   ]
  },
  {
   "cell_type": "markdown",
   "id": "133734c5-690d-4c22-a7f6-b673e3d4c2f8",
   "metadata": {},
   "source": [
    "Trainning jarayonini VIzuallashtiramiz ╰(*°▽°*)╯"
   ]
  },
  {
   "cell_type": "code",
   "execution_count": 37,
   "id": "8fac15b4-e5ef-422e-b689-c97ebcea8e34",
   "metadata": {},
   "outputs": [
    {
     "data": {
      "image/png": "[encoded data removed]",
      "text/plain": [
       "<Figure size 640x480 with 1 Axes>"
      ]
     },
     "metadata": {},
     "output_type": "display_data"
    }
   ],
   "source": [
    "\n",
    "plt.scatter(X_train, y_train, color=\"blue\", label=\"DATA Training\")\n",
    "plt.scatter(X_test, y_test, color=\"green\", label=\"DATA TESTING(SHHH)\")\n",
    "plt.plot(X, bekfurr.predict(X), color=\"red\", label=\"Regression Line\")\n",
    "plt.title(\"LINEAR REGRESSION MODELI\")\n",
    "plt.xlabel(\"TAJRIBA YILI\")\n",
    "plt.ylabel(\"MAOSH\")\n",
    "plt.legend()\n",
    "plt.show()"
   ]
  },
  {
   "cell_type": "code",
   "execution_count": null,
   "id": "8ff98897-01a3-4bbb-84e5-d18594f27797",
   "metadata": {},
   "outputs": [],
   "source": [
    "PREDICTION"
   ]
  },
  {
   "cell_type": "code",
   "execution_count": 52,
   "id": "15fa8d9c-8642-4ef1-9510-e5ef88699076",
   "metadata": {},
   "outputs": [
    {
     "name": "stdin",
     "output_type": "stream",
     "text": [
      "YILNI KIRITING: 5\n"
     ]
    },
    {
     "name": "stdout",
     "output_type": "stream",
     "text": [
      "Yangi kiritilgan tajriba yili uchun prediction: 72440.7 $   ESLATIB O^TAMIZ NATIJA  49830096.85590839  holatlarda hatolik chiqishi mumkin\n"
     ]
    },
    {
     "name": "stderr",
     "output_type": "stream",
     "text": [
      "C:\\Users\\BEKFURR\\anaconda3\\Lib\\site-packages\\sklearn\\base.py:493: UserWarning: X does not have valid feature names, but LinearRegression was fitted with feature names\n",
      "  warnings.warn(\n"
     ]
    }
   ],
   "source": [
    "new_tajriba = int(input(\"YILNI KIRITING:\"))\n",
    "y_pred = bekfurr.predict([[new_tajriba]])\n",
    "y=np.round(y_pred[0],1)\n",
    "print(\"Yangi kiritilgan tajriba yili uchun prediction:\",y , \"$\", \"  ESLATIB O^TAMIZ NATIJA \", mse, \" holatlarda hatolik chiqishi mumkin\")"
   ]
  },
  {
   "cell_type": "code",
   "execution_count": null,
   "id": "00e29672-200e-435b-970b-12dbf63cd7a3",
   "metadata": {},
   "outputs": [],
   "source": []
  },
  {
   "cell_type": "code",
   "execution_count": null,
   "id": "e4c7b96f-eff5-4e48-aac8-131eeec98453",
   "metadata": {},
   "outputs": [],
   "source": [
    "\n"
   ]
  }
 ],
 "metadata": {
  "kernelspec": {
   "display_name": "Python 3 (ipykernel)",
   "language": "python",
   "name": "python3"
  },
  "language_info": {
   "codemirror_mode": {
    "name": "ipython",
    "version": 3
   },
   "file_extension": ".py",
   "mimetype": "text/x-python",
   "name": "python",
   "nbconvert_exporter": "python",
   "pygments_lexer": "ipython3",
   "version": "3.12.7"
  }
 },
 "nbformat": 4,
 "nbformat_minor": 5
}
